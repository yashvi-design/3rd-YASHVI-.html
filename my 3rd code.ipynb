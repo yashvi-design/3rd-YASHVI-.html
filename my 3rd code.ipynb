{
  "nbformat": 4,
  "nbformat_minor": 0,
  "metadata": {
    "colab": {
      "provenance": [],
      "mount_file_id": "13QG_0uJbfHfIYZ50BgW0Wtqh9nrXBy76",
      "authorship_tag": "ABX9TyPJdjqVGTI6YdH9wkLjXdzJ",
      "include_colab_link": true
    },
    "kernelspec": {
      "name": "python3",
      "display_name": "Python 3"
    },
    "language_info": {
      "name": "python"
    }
  },
  "cells": [
    {
      "cell_type": "markdown",
      "metadata": {
        "id": "view-in-github",
        "colab_type": "text"
      },
      "source": [
        "<a href=\"https://colab.research.google.com/github/yashvi-design/3rd-YASHVI-.html/blob/main/my%203rd%20code.ipynb\" target=\"_parent\"><img src=\"https://colab.research.google.com/assets/colab-badge.svg\" alt=\"Open In Colab\"/></a>"
      ]
    },
    {
      "cell_type": "code",
      "execution_count": 1,
      "metadata": {
        "colab": {
          "base_uri": "https://localhost:8080/"
        },
        "id": "yw3q9_yQqcxo",
        "outputId": "628db308-93de-46fb-9b47-48423e0dab05"
      },
      "outputs": [
        {
          "output_type": "stream",
          "name": "stdout",
          "text": [
            "Name : Penguin\n",
            "Data type of name is <class 'str'>\n",
            "Age : 15\n",
            "Data Type of Age is <class 'int'>\n",
            "is_student : True\n",
            "Data Type of is_student <class 'bool'>\n",
            "Weight : 38.5\n",
            "Data Type of weight is <class 'float'>\n",
            "\n",
            " After Type Casting....\n",
            "15\n",
            "Data Type of age is <class 'str'>\n",
            "38\n",
            "Data Type of Weight is <class 'int'>\n"
          ]
        }
      ],
      "source": [
        "name = \"Penguin\"\n",
        "age = 15\n",
        "is_student = True\n",
        "weight = 38.5\n",
        "\n",
        "print(\"Name :\",name)\n",
        "print(\"Data type of name is\",type(name))\n",
        "print(\"Age :\",age)\n",
        "print(\"Data Type of Age is\",type(age))\n",
        "print(\"is_student :\",is_student)\n",
        "print(\"Data Type of is_student\",type(is_student))\n",
        "print(\"Weight :\",weight)\n",
        "print(\"Data Type of weight is\",type(weight))\n",
        "\n",
        "print(\"\\n After Type Casting....\")\n",
        "age = str(age)\n",
        "print(age)\n",
        "print(\"Data Type of age is\",type(age))\n",
        "weight = int(weight)\n",
        "print(weight)\n",
        "print(\"Data Type of Weight is\",type(weight))"
      ]
    },
    {
      "cell_type": "markdown",
      "source": [],
      "metadata": {
        "id": "eea4I-HXwwFH"
      }
    },
    {
      "cell_type": "code",
      "source": [
        "# Take input value from user\n",
        "x = input(\"Enter Value of x:\")\n",
        "y = input(\"Enter Value of y:\")\n",
        "\n",
        "# Swapping\n",
        "temp = x\n",
        "x = y\n",
        "y = temp\n",
        "\n",
        "# Displaying results after swapping\n",
        "print(\"value of x after swapping\", x)\n",
        "print(\"value of y after swapping\",y)\n"
      ],
      "metadata": {
        "colab": {
          "base_uri": "https://localhost:8080/"
        },
        "id": "r4xuZeY3xarj",
        "outputId": "e5724e45-edf7-4de3-f544-550f518cb821"
      },
      "execution_count": 2,
      "outputs": [
        {
          "output_type": "stream",
          "name": "stdout",
          "text": [
            "Enter Value of x:23\n",
            "Enter Value of y:50\n",
            "value of x after swapping 50\n",
            "value of y after swapping 23\n"
          ]
        }
      ]
    },
    {
      "cell_type": "code",
      "source": [
        "first_name = \"Codingal\"\n",
        "last_name = \"Educations\"\n",
        "full_name = first_name+last_name\n",
        "example = \"Haa\"*5\n",
        "\n",
        "print(\"First Name :\",first_name)\n",
        "print(\"Last Name:\",last_name)\n",
        "print(\"Full Letter :\",full_name)\n",
        "print(\"String Multiplied 5 times gives the result :\",example)\n",
        "\n",
        "word = 'Coding'\n",
        "print(\"Length of String :\",len(word))\n",
        "print(\"First Letter of String :\",word[0])\n",
        "print(\"Last Letter of String\",word[5])\n",
        "print(\"String Sliced :\",word[0:3])"
      ],
      "metadata": {
        "colab": {
          "base_uri": "https://localhost:8080/"
        },
        "id": "LW0e0Od7xVLf",
        "outputId": "fb683ec6-385e-44fc-ff94-24c1c8581ed4"
      },
      "execution_count": 3,
      "outputs": [
        {
          "output_type": "stream",
          "name": "stdout",
          "text": [
            "First Name : Codingal\n",
            "Last Name: Educations\n",
            "Full Letter : CodingalEducations\n",
            "String Multiplied 5 times gives the result : HaaHaaHaaHaaHaa\n",
            "Length of String : 6\n",
            "First Letter of String : C\n",
            "Last Letter of String g\n",
            "String Sliced : Cod\n"
          ]
        }
      ]
    }
  ]
}