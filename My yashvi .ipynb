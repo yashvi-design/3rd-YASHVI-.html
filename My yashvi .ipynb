{
  "nbformat": 4,
  "nbformat_minor": 0,
  "metadata": {
    "colab": {
      "provenance": [],
      "toc_visible": true,
      "authorship_tag": "ABX9TyPzKryosRHPDlDlyXAGwKNM",
      "include_colab_link": true
    },
    "kernelspec": {
      "name": "python3",
      "display_name": "Python 3"
    },
    "language_info": {
      "name": "python"
    }
  },
  "cells": [
    {
      "cell_type": "markdown",
      "metadata": {
        "id": "view-in-github",
        "colab_type": "text"
      },
      "source": [
        "<a href=\"https://colab.research.google.com/github/yashvi-design/3rd-YASHVI-.html/blob/main/My%20yashvi%20.ipynb\" target=\"_parent\"><img src=\"https://colab.research.google.com/assets/colab-badge.svg\" alt=\"Open In Colab\"/></a>"
      ]
    },
    {
      "cell_type": "code",
      "execution_count": 1,
      "metadata": {
        "colab": {
          "base_uri": "https://localhost:8080/"
        },
        "id": "N5YauG3cu6pH",
        "outputId": "cb94b468-e473-4966-d7e3-eae6a4e30f1e"
      },
      "outputs": [
        {
          "output_type": "stream",
          "name": "stdout",
          "text": [
            "Hello World\n",
            "What's your name?Yashvi\n",
            "Nice to meet you Yashvi\n"
          ]
        }
      ],
      "source": [
        "print(\"Hello World\")\n",
        "name =input(\"What's your name?\")\n",
        "print (f\"Nice to meet you {name}\")\n"
      ]
    },
    {
      "cell_type": "markdown",
      "source": [
        "# New Section"
      ],
      "metadata": {
        "id": "57XIzKiEvL2h"
      }
    }
  ]
}